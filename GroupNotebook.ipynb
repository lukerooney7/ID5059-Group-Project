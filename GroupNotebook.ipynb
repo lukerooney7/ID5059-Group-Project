{
 "cells": [
  {
   "metadata": {},
   "cell_type": "code",
   "outputs": [],
   "execution_count": null,
   "source": [
    "# Imports\n",
    "import pandas as pd"
   ],
   "id": "38d5c8392ccae476"
  },
  {
   "metadata": {},
   "cell_type": "code",
   "outputs": [],
   "execution_count": null,
   "source": [
    "# Read in the training data set\n",
    "df = pd.read_csv('data/train.csv', sep=',',keep_default_na=False, na_values='null')\n",
    "# Display shape of the data\n",
    "print(df.shape)\n",
    "print(df)"
   ],
   "id": "b9637fac4d505fc7"
  },
  {
   "metadata": {},
   "cell_type": "code",
   "outputs": [],
   "execution_count": null,
   "source": [
    "X_train = df.drop(columns=['t2m'])  # Features\n",
    "y_train = df['t2m']  # Labels (y will be a temperature in K)"
   ],
   "id": "a0e8b44c4b0f417d"
  },
  {
   "metadata": {},
   "cell_type": "markdown",
   "source": "# Data Exploration",
   "id": "c1a7878f1c24ecf"
  },
  {
   "metadata": {},
   "cell_type": "code",
   "outputs": [],
   "execution_count": null,
   "source": "",
   "id": "ea9285233e9bba90"
  },
  {
   "metadata": {},
   "cell_type": "code",
   "outputs": [],
   "execution_count": null,
   "source": "",
   "id": "d6720ade51f570c3"
  },
  {
   "metadata": {},
   "cell_type": "markdown",
   "source": "# Data Wrangling",
   "id": "8c25fe67bc3ed6f5"
  },
  {
   "metadata": {},
   "cell_type": "code",
   "outputs": [],
   "execution_count": null,
   "source": [
    "def split_times(data):\n",
    "    data['valid_time'] = pd.to_datetime(data['valid_time'])\n",
    "    data['hour'] = data['valid_time'].dt.hour\n",
    "    data['month'] = data['valid_time'].dt.month\n",
    "    data['day'] = data['valid_time'].dt.day\n",
    "    return data"
   ],
   "id": "ebd22e5f4e406583"
  },
  {
   "metadata": {},
   "cell_type": "code",
   "outputs": [],
   "execution_count": null,
   "source": [
    "def encode_wind(data):\n",
    "    return data"
   ],
   "id": "5c0dbd299eae6f63"
  },
  {
   "metadata": {},
   "cell_type": "code",
   "outputs": [],
   "execution_count": null,
   "source": [
    "def nearby_data(data, window = 3):\n",
    "    features = ['u10', 'v10'] # Need to change to be the correct features (dont know what the new wind ones will be called)\n",
    "    for feature in features:\n",
    "        data[feature + '_nearby'] = (\n",
    "            data.groupby(['month', 'day', 'longitude', 'latitude'])[feature]\n",
    "            .transform(lambda x: x.rolling(window=window, center=True, min_periods=1).mean())\n",
    "        )\n",
    "    return data.reset_index()"
   ],
   "id": "26ad966d14dc6f55"
  },
  {
   "metadata": {},
   "cell_type": "code",
   "outputs": [],
   "execution_count": null,
   "source": [
    "def encode_ptype(data):\n",
    "    return data"
   ],
   "id": "e0d8fa592a21488"
  },
  {
   "metadata": {},
   "cell_type": "code",
   "outputs": [],
   "execution_count": null,
   "source": [
    "def pca_wind(data):\n",
    "    return data"
   ],
   "id": "4d382e4e96faa1b6"
  },
  {
   "metadata": {},
   "cell_type": "code",
   "outputs": [],
   "execution_count": null,
   "source": [
    "def feature_selection(data):\n",
    "    return data.drop(columns=['id', 'valid_time', 'day'])"
   ],
   "id": "f6c99b7a66bebeda"
  },
  {
   "metadata": {},
   "cell_type": "code",
   "outputs": [],
   "execution_count": null,
   "source": [
    "def data_wrangling_pipeline(data):\n",
    "    data = split_times(data)\n",
    "    data = encode_wind(data)\n",
    "    data = nearby_data(data)\n",
    "    # TP Square root???\n",
    "    data = encode_ptype(data)\n",
    "    data = pca_wind(data)\n",
    "    data = feature_selection(data)\n",
    "    return data\n",
    "\n",
    "data_wrangling_pipeline(X_train)"
   ],
   "id": "430415b1a9a0064b"
  },
  {
   "metadata": {},
   "cell_type": "markdown",
   "source": "# Modelling",
   "id": "12bc0a6d5b2e76e"
  },
  {
   "metadata": {},
   "cell_type": "code",
   "outputs": [],
   "execution_count": null,
   "source": "",
   "id": "744a6efb87787e45"
  },
  {
   "metadata": {},
   "cell_type": "markdown",
   "source": "# Tuning",
   "id": "760694775bde96a5"
  },
  {
   "metadata": {},
   "cell_type": "code",
   "outputs": [],
   "execution_count": null,
   "source": "",
   "id": "8e8cd36b6badb45"
  },
  {
   "metadata": {},
   "cell_type": "code",
   "outputs": [],
   "execution_count": null,
   "source": "",
   "id": "ad9c8b1b76da9a8"
  }
 ],
 "metadata": {
  "kernelspec": {
   "display_name": "Python 3",
   "language": "python",
   "name": "python3"
  },
  "language_info": {
   "codemirror_mode": {
    "name": "ipython",
    "version": 2
   },
   "file_extension": ".py",
   "mimetype": "text/x-python",
   "name": "python",
   "nbconvert_exporter": "python",
   "pygments_lexer": "ipython2",
   "version": "2.7.6"
  }
 },
 "nbformat": 4,
 "nbformat_minor": 5
}
